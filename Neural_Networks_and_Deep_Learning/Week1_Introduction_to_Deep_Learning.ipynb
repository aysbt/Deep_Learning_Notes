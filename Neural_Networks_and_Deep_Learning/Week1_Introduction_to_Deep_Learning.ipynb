{
 "cells": [
  {
   "cell_type": "markdown",
   "metadata": {},
   "source": [
    "# WEEK1:  INTRODUCTION TO DEEP LEARNING"
   ]
  },
  {
   "cell_type": "markdown",
   "metadata": {},
   "source": [
    "## What is a neural network?\n",
    "\n",
    "<img src='image/Fig1.png' width=\"400\" height= \"200\" />\n",
    "\n",
    "\n",
    "* *Let's start to the Housing Price Prediction example.*\n",
    "    * Let's say you have a data sets with six houses.\n",
    "    * You know the size of the houses in square feet or square meters\n",
    "    * You know the price of the house\n",
    "    * You want to fit a function to predict the price of the houses, the function of the size. \n",
    "\n",
    "* In linear regression \n",
    "    * We put a straight line to these data \n",
    "    * The prices can never be negative so for this let's bend the curve here. \n",
    "    * the blue line ends up being your function for predicting the price of the house as a function of this size. \n",
    "    * You can think of this function as a very simple neural network. \n",
    "    * It's almost as simple as possible neural network\n",
    "\n",
    "<img src='image/Fig3.png' width=\"600\" height= \"200\" />\n",
    "\n",
    "* Simple neural network\n",
    "* We have a input to the neural network: the size of a house(we call **x**). \n",
    "* **x** goes into this node, this little circle which is a single neuron and then it outputs the price (we call **y)**. \n",
    "* A single neuron in a neural network, implements the Relu function.\n",
    "* The ReLU function which stands for rectified linear units means taking a max of zero (0) which is why you get a function shape like this.\n",
    "\n",
    "\n",
    "**All the neuron does is takes inputs, computes the linear function, takes a max of zero, and then outputs the estimated value**\n",
    "\n",
    " * A larger neural network is then formed by taking many of the single neurons and stacking them together. So, if you think of this neuron that's being like a single Lego brick, you then get a bigger neural network by stacking together many of these Lego bricks.\n",
    " \n",
    "* Instead of predicting the price of a house just from the size, you have also other features.\n",
    "* Such as \n",
    "    * the size of the house \n",
    "    * the number of bedrooms, \n",
    "    * the zip code or postal code ,which is a future to tells you, walkability\n",
    "    * the wealth of the neighborhood\n",
    "* With  given these input features, the job of the neural network will be to predict the price y.\n",
    "\n"
   ]
  },
  {
   "cell_type": "code",
   "execution_count": null,
   "metadata": {},
   "outputs": [],
   "source": []
  }
 ],
 "metadata": {
  "kernelspec": {
   "display_name": "Python 3",
   "language": "python",
   "name": "python3"
  },
  "language_info": {
   "codemirror_mode": {
    "name": "ipython",
    "version": 3
   },
   "file_extension": ".py",
   "mimetype": "text/x-python",
   "name": "python",
   "nbconvert_exporter": "python",
   "pygments_lexer": "ipython3",
   "version": "3.7.4"
  }
 },
 "nbformat": 4,
 "nbformat_minor": 2
}
